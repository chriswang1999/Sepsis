{
 "cells": [
  {
   "cell_type": "code",
   "execution_count": 1,
   "metadata": {},
   "outputs": [],
   "source": [
    "\n",
    "from __future__ import absolute_import, division, print_function\n",
    "\n",
    "import pandas as pd\n",
    "import numpy as np\n",
    "import sklearn as sk\n",
    "import os\n",
    "import tensorflow as tf\n",
    "from tensorflow import keras\n",
    "import seaborn as sns\n",
    "# %load_ext autoreload\n",
    "# %autoreload 2"
   ]
  },
  {
   "cell_type": "code",
   "execution_count": 2,
   "metadata": {},
   "outputs": [],
   "source": [
    "\n",
    "data = np.load(\"processed_data.npz\")\n"
   ]
  },
  {
   "cell_type": "code",
   "execution_count": 3,
   "metadata": {},
   "outputs": [
    {
     "data": {
      "text/plain": [
       "['x_train', 'y_train', 'x_test', 'y_test']"
      ]
     },
     "execution_count": 3,
     "metadata": {},
     "output_type": "execute_result"
    }
   ],
   "source": [
    "\n",
    "data.files"
   ]
  },
  {
   "cell_type": "code",
   "execution_count": 4,
   "metadata": {},
   "outputs": [
    {
     "data": {
      "text/plain": [
       "(153582, 47)"
      ]
     },
     "execution_count": 4,
     "metadata": {},
     "output_type": "execute_result"
    }
   ],
   "source": [
    "data['x_train'].shape"
   ]
  },
  {
   "cell_type": "code",
   "execution_count": 5,
   "metadata": {},
   "outputs": [
    {
     "data": {
      "text/plain": [
       "(153582, 46)"
      ]
     },
     "execution_count": 5,
     "metadata": {},
     "output_type": "execute_result"
    }
   ],
   "source": [
    "data['y_train'].shape"
   ]
  },
  {
   "cell_type": "code",
   "execution_count": 6,
   "metadata": {},
   "outputs": [
    {
     "name": "stdout",
     "output_type": "stream",
     "text": [
      "Compression factor: 4.6\n",
      "Tensor(\"z/random_normal:0\", shape=(?, 30), dtype=float32)\n",
      "__________________________________________________________________________________________________\n",
      "Layer (type)                    Output Shape         Param #     Connected to                     \n",
      "==================================================================================================\n",
      "encoder_input (InputLayer)      (None, 46)           0                                            \n",
      "__________________________________________________________________________________________________\n",
      "dense_1 (Dense)                 (None, 40)           1880        encoder_input[0][0]              \n",
      "__________________________________________________________________________________________________\n",
      "dense_2 (Dense)                 (None, 35)           1435        dense_1[0][0]                    \n",
      "__________________________________________________________________________________________________\n",
      "dense_3 (Dense)                 (None, 30)           1080        dense_2[0][0]                    \n",
      "__________________________________________________________________________________________________\n",
      "z_mean (Dense)                  (None, 30)           930         dense_3[0][0]                    \n",
      "__________________________________________________________________________________________________\n",
      "z_log_var (Dense)               (None, 30)           930         dense_3[0][0]                    \n",
      "__________________________________________________________________________________________________\n",
      "z (Lambda)                      (None, 30)           0           z_mean[0][0]                     \n",
      "                                                                 z_log_var[0][0]                  \n",
      "__________________________________________________________________________________________________\n",
      "dense_4 (Dense)                 (None, 40)           1240        z[0][0]                          \n",
      "__________________________________________________________________________________________________\n",
      "dense_5 (Dense)                 (None, 45)           1845        dense_4[0][0]                    \n",
      "__________________________________________________________________________________________________\n",
      "dense_6 (Dense)                 (None, 46)           2116        dense_5[0][0]                    \n",
      "==================================================================================================\n",
      "Total params: 11,456\n",
      "Trainable params: 11,456\n",
      "Non-trainable params: 0\n",
      "__________________________________________________________________________________________________\n"
     ]
    }
   ],
   "source": [
    "input_dim = data['x_train'].shape[1]-1\n",
    "encoding_dim = 10\n",
    "\n",
    "compression_factor = float(input_dim) / encoding_dim\n",
    "print(\"Compression factor: %s\" % compression_factor)\n",
    "def sampling(args):\n",
    "    import tensorflow as tf\n",
    "    z_mean, z_log_var = args\n",
    "    batch = tf.keras.backend.shape(z_mean)[0]\n",
    "    dim = tf.keras.backend.int_shape(z_mean)[1]\n",
    "    # by default, random_normal has mean=0 and std=1.0\n",
    "    epsilon = tf.keras.backend.random_normal(shape=(batch, dim))\n",
    "    print(epsilon)\n",
    "    return z_mean + tf.keras.backend.exp(0.5 * z_log_var) * epsilon\n",
    "inputs = tf.keras.layers.Input(shape=(input_dim,), name='encoder_input')\n",
    "x_1 = tf.keras.layers.Dense(40, input_shape=(input_dim,), activation='relu')(inputs)\n",
    "x_2 = tf.keras.layers.Dense(35, activation='relu')(x_1)\n",
    "x_3 =  tf.keras.layers.Dense(30, activation='relu')(x_2)\n",
    "z_mean = tf.keras.layers.Dense(30, name='z_mean')(x_3)\n",
    "z_log_var = tf.keras.layers.Dense(30, name='z_log_var')(x_3)\n",
    "z = tf.keras.layers.Lambda(sampling, output_shape=(1,), name='z')([z_mean, z_log_var])\n",
    "d_1 = tf.keras.layers.Dense(40, activation='relu')(z)\n",
    "d_2 = tf.keras.layers.Dense(45, activation='relu')(d_1)\n",
    "d_3 = tf.keras.layers.Dense(46)(d_2)\n",
    "\n",
    "vae = tf.keras.models.Model(inputs, d_3, name='vae')\n",
    "vae.summary()\n"
   ]
  },
  {
   "cell_type": "code",
   "execution_count": 8,
   "metadata": {},
   "outputs": [
    {
     "name": "stdout",
     "output_type": "stream",
     "text": [
      "Tensor(\"z_mean/BiasAdd:0\", shape=(?, 30), dtype=float32)\n",
      "Tensor(\"z_log_var/BiasAdd:0\", shape=(?, 30), dtype=float32)\n",
      "Train on 153582 samples, validate on 153582 samples\n",
      "Epoch 1/50\n",
      "153582/153582 [==============================] - 12s 81us/step - loss: 0.3922 - val_loss: 0.2684\n",
      "\n",
      "Epoch 00001: val_loss improved from inf to 0.26840, saving model to vae_noklloss.model\n",
      "Epoch 2/50\n",
      "153582/153582 [==============================] - 13s 85us/step - loss: 0.2278 - val_loss: 0.1957\n",
      "\n",
      "Epoch 00002: val_loss improved from 0.26840 to 0.19565, saving model to vae_noklloss.model\n",
      "Epoch 3/50\n",
      "153582/153582 [==============================] - 13s 86us/step - loss: 0.1792 - val_loss: 0.1670\n",
      "\n",
      "Epoch 00003: val_loss improved from 0.19565 to 0.16698, saving model to vae_noklloss.model\n",
      "Epoch 4/50\n",
      "153582/153582 [==============================] - 15s 98us/step - loss: 0.1643 - val_loss: 0.1566\n",
      "\n",
      "Epoch 00004: val_loss improved from 0.16698 to 0.15660, saving model to vae_noklloss.model\n",
      "Epoch 5/50\n",
      "153582/153582 [==============================] - 15s 96us/step - loss: 0.1559 - val_loss: 0.1440\n",
      "\n",
      "Epoch 00005: val_loss improved from 0.15660 to 0.14397, saving model to vae_noklloss.model\n",
      "Epoch 6/50\n",
      "153582/153582 [==============================] - 13s 85us/step - loss: 0.1425 - val_loss: 0.1397\n",
      "\n",
      "Epoch 00006: val_loss improved from 0.14397 to 0.13966, saving model to vae_noklloss.model\n",
      "Epoch 7/50\n",
      "153582/153582 [==============================] - 14s 88us/step - loss: 0.1364 - val_loss: 0.1202\n",
      "\n",
      "Epoch 00007: val_loss improved from 0.13966 to 0.12020, saving model to vae_noklloss.model\n",
      "Epoch 8/50\n",
      "153582/153582 [==============================] - 14s 93us/step - loss: 0.1126 - val_loss: 0.1040\n",
      "\n",
      "Epoch 00008: val_loss improved from 0.12020 to 0.10397, saving model to vae_noklloss.model\n",
      "Epoch 9/50\n",
      "153582/153582 [==============================] - 14s 91us/step - loss: 0.1059 - val_loss: 0.1025\n",
      "\n",
      "Epoch 00009: val_loss improved from 0.10397 to 0.10255, saving model to vae_noklloss.model\n",
      "Epoch 10/50\n",
      "153582/153582 [==============================] - 15s 98us/step - loss: 0.1047 - val_loss: 0.1019\n",
      "\n",
      "Epoch 00010: val_loss improved from 0.10255 to 0.10188, saving model to vae_noklloss.model\n",
      "Epoch 11/50\n",
      "153582/153582 [==============================] - 14s 90us/step - loss: 0.1025 - val_loss: 0.1038\n",
      "\n",
      "Epoch 00011: val_loss did not improve\n",
      "Epoch 12/50\n",
      "153582/153582 [==============================] - 14s 92us/step - loss: 0.1042 - val_loss: 0.1014\n",
      "\n",
      "Epoch 00012: val_loss improved from 0.10188 to 0.10144, saving model to vae_noklloss.model\n",
      "Epoch 13/50\n",
      "153582/153582 [==============================] - 14s 94us/step - loss: 0.1009 - val_loss: 0.1007\n",
      "\n",
      "Epoch 00013: val_loss improved from 0.10144 to 0.10066, saving model to vae_noklloss.model\n",
      "Epoch 14/50\n",
      "153582/153582 [==============================] - 14s 93us/step - loss: 0.0998 - val_loss: 0.0999\n",
      "\n",
      "Epoch 00014: val_loss improved from 0.10066 to 0.09986, saving model to vae_noklloss.model\n",
      "Epoch 15/50\n",
      "153582/153582 [==============================] - 14s 92us/step - loss: 0.1000 - val_loss: 0.0981\n",
      "\n",
      "Epoch 00015: val_loss improved from 0.09986 to 0.09815, saving model to vae_noklloss.model\n",
      "Epoch 16/50\n",
      "153582/153582 [==============================] - 14s 92us/step - loss: 0.0987 - val_loss: 0.0992\n",
      "\n",
      "Epoch 00016: val_loss did not improve\n",
      "Epoch 17/50\n",
      "153582/153582 [==============================] - 13s 82us/step - loss: 0.0992 - val_loss: 0.0956\n",
      "\n",
      "Epoch 00017: val_loss improved from 0.09815 to 0.09555, saving model to vae_noklloss.model\n",
      "Epoch 18/50\n",
      "153582/153582 [==============================] - 14s 93us/step - loss: 0.0909 - val_loss: 0.2235\n",
      "\n",
      "Epoch 00018: val_loss did not improve\n",
      "Epoch 19/50\n",
      "153582/153582 [==============================] - 17s 112us/step - loss: 0.0936 - val_loss: 0.0882\n",
      "\n",
      "Epoch 00019: val_loss improved from 0.09555 to 0.08823, saving model to vae_noklloss.model\n",
      "Epoch 20/50\n",
      "153582/153582 [==============================] - 14s 94us/step - loss: 0.0892 - val_loss: 0.0880\n",
      "\n",
      "Epoch 00020: val_loss improved from 0.08823 to 0.08796, saving model to vae_noklloss.model\n",
      "Epoch 21/50\n",
      "153582/153582 [==============================] - 14s 92us/step - loss: 0.0897 - val_loss: 0.0851\n",
      "\n",
      "Epoch 00021: val_loss improved from 0.08796 to 0.08512, saving model to vae_noklloss.model\n",
      "Epoch 22/50\n",
      "153582/153582 [==============================] - 14s 94us/step - loss: 0.0883 - val_loss: 0.1048\n",
      "\n",
      "Epoch 00022: val_loss did not improve\n",
      "Epoch 23/50\n",
      "153582/153582 [==============================] - 15s 101us/step - loss: 0.1035 - val_loss: 0.0932\n",
      "\n",
      "Epoch 00023: val_loss did not improve\n",
      "Epoch 24/50\n",
      "153582/153582 [==============================] - 16s 102us/step - loss: 0.0990 - val_loss: 0.0894\n",
      "\n",
      "Epoch 00024: val_loss did not improve\n"
     ]
    },
    {
     "data": {
      "text/plain": [
       "<tensorflow.python.keras._impl.keras.callbacks.History at 0x12e802dd8>"
      ]
     },
     "execution_count": 8,
     "metadata": {},
     "output_type": "execute_result"
    }
   ],
   "source": [
    "from time import time\n",
    "def true_loss(y_true, y_pred, z_mean, z_log_var):\n",
    "    reconstruction_loss = tf.keras.losses.mean_squared_error(y_true, y_pred)\n",
    "    reconstruction_loss *= 1\n",
    "    kl_loss = -0.5 * tf.keras.backend.mean(1 + z_log_var - tf.keras.backend.square(z_mean) - tf.keras.backend.exp(z_log_var), axis=1)\n",
    "    #kl_loss = tf.keras.backend.sum(kl_loss, axis=-1)\n",
    "    #kl_loss *= -1\n",
    "    return tf.keras.backend.mean(reconstruction_loss + kl_loss * 0.0)\n",
    "\n",
    "def sub_loss(z_mean, z_log_var):\n",
    "    print(z_mean)\n",
    "    print(z_log_var)\n",
    "    def loss_func(y_true, y_pred):\n",
    "        return true_loss(y_true, y_pred, z_mean, z_log_var)\n",
    "    return loss_func\n",
    "\n",
    "tensorboard = keras.callbacks.TensorBoard(log_dir=\"logs/vae_{}\".format(time()))\n",
    "cp_callback = tf.keras.callbacks.ModelCheckpoint(\"vae_noklloss.model\",\n",
    "                                                 verbose=1, monitor='val_loss', save_best_only=True)\n",
    "\n",
    "early_stop =tf.keras.callbacks.EarlyStopping(monitor='val_loss', patience=3)\n",
    "\n",
    "vae.compile(optimizer='adam', loss = sub_loss(z_mean, z_log_var))\n",
    "vae.fit(data['x_train'][:,:][:,:-1], data['x_train'][:,:][:,:-1],\n",
    "                epochs=50,\n",
    "                shuffle=True,\n",
    "                validation_data=(data['x_train'][:,:][:,:-1],data['x_train'][:,:][:,:-1]), callbacks=[tensorboard, cp_callback, early_stop])"
   ]
  },
  {
   "cell_type": "code",
   "execution_count": 39,
   "metadata": {},
   "outputs": [
    {
     "name": "stdout",
     "output_type": "stream",
     "text": [
      "Tensor(\"z_6/random_normal:0\", shape=(?, 30), dtype=float32)\n",
      "Tensor(\"z_6/random_normal_1:0\", shape=(?, 30), dtype=float32)\n",
      "__________________________________________________________________________________________________\n",
      "Layer (type)                    Output Shape         Param #     Connected to                     \n",
      "==================================================================================================\n",
      "input_7 (InputLayer)            (None, 46)           0                                            \n",
      "__________________________________________________________________________________________________\n",
      "encoder_input (InputLayer)      (None, 46)           0           input_7[0][0]                    \n",
      "__________________________________________________________________________________________________\n",
      "dense_1 (Dense)                 (None, 40)           1880        encoder_input[1][0]              \n",
      "__________________________________________________________________________________________________\n",
      "dense_2 (Dense)                 (None, 35)           1435        dense_1[1][0]                    \n",
      "__________________________________________________________________________________________________\n",
      "dense_3 (Dense)                 (None, 30)           1080        dense_2[1][0]                    \n",
      "__________________________________________________________________________________________________\n",
      "z_mean (Dense)                  (None, 30)           930         dense_3[1][0]                    \n",
      "__________________________________________________________________________________________________\n",
      "z_log_var (Dense)               (None, 30)           930         dense_3[1][0]                    \n",
      "__________________________________________________________________________________________________\n",
      "z (Lambda)                      (None, 30)           0           z_mean[1][0]                     \n",
      "                                                                 z_log_var[1][0]                  \n",
      "==================================================================================================\n",
      "Total params: 6,255\n",
      "Trainable params: 6,255\n",
      "Non-trainable params: 0\n",
      "__________________________________________________________________________________________________\n"
     ]
    }
   ],
   "source": [
    "vae_model = tf.keras.models.load_model(\"vae_noklloss.model\", compile=False)\n",
    "\n",
    "input_img = tf.keras.layers.Input(shape=(input_dim,))\n",
    "encoder_layer1 = vae_model.layers[0]\n",
    "encoder_layer2 = vae_model.layers[1]\n",
    "encoder_layer3 = vae_model.layers[2]\n",
    "encoder_layer4 = vae_model.layers[3]\n",
    "encoder_layer5 = vae_model.layers[4]\n",
    "encoder_layer6 = vae_model.layers[5]\n",
    "encoder_layer7 = vae_model.layers[6]\n",
    "intermediate = encoder_layer4(encoder_layer3(encoder_layer2(encoder_layer1(input_img))))\n",
    "output = encoder_layer7([encoder_layer5(intermediate), encoder_layer6(intermediate)])\n",
    "encoder = tf.keras.Model(input_img, output)\n",
    "#encoder = tf.keras.Model(input_img, encoder_layer1(input_img))\n",
    "encoder.summary()"
   ]
  },
  {
   "cell_type": "code",
   "execution_count": 40,
   "metadata": {},
   "outputs": [
    {
     "name": "stdout",
     "output_type": "stream",
     "text": [
      "_________________________________________________________________\n",
      "Layer (type)                 Output Shape              Param #   \n",
      "=================================================================\n",
      "input_8 (InputLayer)         (None, 30)                0         \n",
      "_________________________________________________________________\n",
      "dense_4 (Dense)              (None, 40)                1240      \n",
      "_________________________________________________________________\n",
      "dense_5 (Dense)              (None, 45)                1845      \n",
      "_________________________________________________________________\n",
      "dense_6 (Dense)              (None, 46)                2116      \n",
      "=================================================================\n",
      "Total params: 5,201\n",
      "Trainable params: 5,201\n",
      "Non-trainable params: 0\n",
      "_________________________________________________________________\n"
     ]
    }
   ],
   "source": [
    "input_img_d = tf.keras.layers.Input(shape=(30,))\n",
    "#input_img_d = tf.keras.layers.Input(shape=(input_dim,))\n",
    "decoder_layer1 = vae_model.layers[7]\n",
    "decoder_layer2 = vae_model.layers[8]\n",
    "decoder_layer3 = vae_model.layers[9]\n",
    "decoder = tf.keras.Model(input_img_d, decoder_layer3(decoder_layer2(decoder_layer1(input_img_d))))\n",
    "#decoder = tf.keras.Model(input_img_d, decoder_layer1(input_img_d))\n",
    "decoder.summary()"
   ]
  },
  {
   "cell_type": "code",
   "execution_count": 41,
   "metadata": {},
   "outputs": [],
   "source": [
    "def get_embedded(not_embedded_data):\n",
    "    embedded = encoder.predict(not_embedded_data[:,:][:,:-1])\n",
    "    return np.append(embedded, not_embedded_data[:][:,-1].reshape(embedded.shape[0], 1), axis=1)\n"
   ]
  },
  {
   "cell_type": "code",
   "execution_count": 42,
   "metadata": {
    "scrolled": true
   },
   "outputs": [
    {
     "name": "stdout",
     "output_type": "stream",
     "text": [
      "[[-0.05892545  0.76765437 -0.29766279 ...  0.3906546   1.00764494\n",
      "   1.46158188]\n",
      " [-0.05892545  0.76765437 -0.29766279 ...  0.3906546   1.00764494\n",
      "   1.46158188]\n",
      " [-0.4871765   0.27141224 -0.29766279 ...  0.3906546   1.00764494\n",
      "   1.46158188]\n",
      " ...\n",
      " [-0.05892545 -0.72107202  0.28859736 ...  0.3906546   0.70272735\n",
      "   1.46158188]\n",
      " [-0.05892545 -0.47295096  1.07027757 ...  0.3906546   0.70272735\n",
      "   1.46158188]\n",
      " [-0.05892545 -0.47295096  1.07027757 ...  0.3906546   0.70272735\n",
      "   1.46158188]]\n"
     ]
    }
   ],
   "source": [
    "print(data['y_train'])"
   ]
  },
  {
   "cell_type": "code",
   "execution_count": 43,
   "metadata": {},
   "outputs": [
    {
     "name": "stdout",
     "output_type": "stream",
     "text": [
      "[[ 0.00544943  0.54063225 -0.19724932 ...  0.36457083  1.054631\n",
      "   1.4833385 ]\n",
      " [-0.03390406  0.5378956  -0.18335104 ...  0.36815187  1.0503498\n",
      "   1.4843906 ]\n",
      " [-0.2525407   0.16020894 -0.16890542 ...  0.35872942  1.0571091\n",
      "   1.4938413 ]\n",
      " ...\n",
      " [-0.5743013  -0.43718147 -0.14386004 ...  0.37439018  0.62824035\n",
      "   1.4406801 ]\n",
      " [-0.67913914 -0.44752467 -0.1561488  ...  0.36937112  0.6387595\n",
      "   1.4808222 ]\n",
      " [-0.67913926 -0.4475243  -0.15614885 ...  0.36937076  0.63875985\n",
      "   1.4808232 ]]\n"
     ]
    }
   ],
   "source": [
    "print(decoder.predict(encoder.predict(data['y_train'])))"
   ]
  },
  {
   "cell_type": "code",
   "execution_count": null,
   "metadata": {},
   "outputs": [],
   "source": []
  },
  {
   "cell_type": "code",
   "execution_count": 44,
   "metadata": {},
   "outputs": [],
   "source": [
    "x_test_e = get_embedded(data['x_test'])\n",
    "y_test_e = encoder.predict(data['y_test'])\n",
    "x_train_e = get_embedded(data['x_train'])\n",
    "y_train_e = encoder.predict(data['y_train'])"
   ]
  },
  {
   "cell_type": "code",
   "execution_count": 45,
   "metadata": {},
   "outputs": [],
   "source": [
    "np.savez(\"embedded_data_vae_nokl.npz\", x_train_e=x_train_e, y_train_e=y_train_e, \n",
    "        x_test_e=x_test_e, y_test_e=y_test_e, x_train = data['x_train'], x_test=data['x_test']\n",
    "         , y_train=data['y_train'], y_test=data['y_test'] )\n",
    "\n"
   ]
  },
  {
   "cell_type": "code",
   "execution_count": 46,
   "metadata": {},
   "outputs": [
    {
     "data": {
      "image/png": "[encoded data removed]",
      "text/plain": [
       "<Figure size 800x480 with 1 Axes>"
      ]
     },
     "metadata": {},
     "output_type": "display_data"
    }
   ],
   "source": [
    "sns.set(style=\"white\")\n",
    "\n",
    "columns = ['ALBUMIN', 'ANION GAP', 'BANDS', 'BICARBONATE',\n",
    "       'BILIRUBIN', 'BUN', 'CHLORIDE', 'CREATININE', 'DiasBP', 'Glucose',\n",
    "       'GLUCOSE', 'HeartRate', 'HEMATOCRIT', 'HEMOGLOBIN', 'INR', 'LACTATE',\n",
    "       'MeanBP', 'PaCO2', 'PLATELET', 'POTASSIUM', 'PT', 'PTT', 'RespRate',\n",
    "       'SODIUM', 'SpO2', 'SysBP', 'TempC', 'WBC', 'age', 'is_male',\n",
    "       'race_white', 'race_black', 'race_hispanic', 'race_other', 'height',\n",
    "       'weight', 'vent', 'sofa', 'lods', 'sirs', 'qsofa', 'qsofa_sysbp_score',\n",
    "       'qsofa_gcs_score', 'qsofa_resprate_score', 'elixhauser_hospital',\n",
    "       'blood_culture_positive']\n",
    "import matplotlib.pyplot as plt\n",
    "def plot(column, mode, prediction):\n",
    "    from matplotlib.pyplot import figure\n",
    "    figure(num=None, figsize=(10, 6), dpi=80, facecolor='w', edgecolor='k')\n",
    "    plt.plot(data['y_'+mode][6:24,columns.index(column)], label=\"truth\", scaley=False)\n",
    "    plt.plot(prediction[6:24,columns.index(column)], label=\"predicted\", scaley=False)\n",
    "    plt.ylim(-2, 2)\n",
    "    plt.legend([\"Real Value\", \"Predicted Value\"])\n",
    "    plt.title(column + \" \" + mode)\n",
    "    plt.show()\n",
    "plot('SODIUM', \"test\", decoder.predict(encoder.predict(data['y_test'])))\n"
   ]
  },
  {
   "cell_type": "code",
   "execution_count": 47,
   "metadata": {},
   "outputs": [],
   "source": [
    "encoder.compile(optimizer='adam', loss='mean_squared_error')\n",
    "encoder.save(\"encoder_variational_nokl.model\")\n",
    "\n",
    "decoder.compile(optimizer='adam', loss='mean_squared_error')\n",
    "decoder.save(\"decoder_variational_nokl.model\")\n"
   ]
  },
  {
   "cell_type": "code",
   "execution_count": 48,
   "metadata": {},
   "outputs": [
    {
     "data": {
      "text/plain": [
       "array([[-0.53370553, -0.49518147, -0.30292875, ..., -2.517274  ,\n",
       "         0.11490536, -0.59006643],\n",
       "       [-0.44085032, -0.4393787 , -0.31650174, ..., -2.6986556 ,\n",
       "        -0.00992244, -0.48343566],\n",
       "       [-0.26546365, -0.13308185, -0.30784124, ..., -2.5882983 ,\n",
       "        -0.23204666, -0.42347816],\n",
       "       ...,\n",
       "       [-0.65442735, -1.4738529 , -0.38338375, ...,  0.49780506,\n",
       "        -0.77206904, -2.887403  ],\n",
       "       [-0.65859205, -1.5426874 , -0.42308527, ...,  0.49102432,\n",
       "        -0.76845497, -2.8560984 ],\n",
       "       [-0.658591  , -1.5426844 , -0.42308545, ...,  0.49102467,\n",
       "        -0.768453  , -2.856098  ]], dtype=float32)"
      ]
     },
     "execution_count": 48,
     "metadata": {},
     "output_type": "execute_result"
    }
   ],
   "source": [
    "model = tf.keras.models.load_model(\"decoder_variational.model\")\n",
    "model.predict(encoder.predict(data['y_test']))"
   ]
  },
  {
   "cell_type": "code",
   "execution_count": null,
   "metadata": {},
   "outputs": [],
   "source": []
  }
 ],
 "metadata": {
  "kernelspec": {
   "display_name": "Python 3",
   "language": "python",
   "name": "python3"
  },
  "language_info": {
   "codemirror_mode": {
    "name": "ipython",
    "version": 3
   },
   "file_extension": ".py",
   "mimetype": "text/x-python",
   "name": "python",
   "nbconvert_exporter": "python",
   "pygments_lexer": "ipython3",
   "version": "3.6.8"
  }
 },
 "nbformat": 4,
 "nbformat_minor": 2
}
