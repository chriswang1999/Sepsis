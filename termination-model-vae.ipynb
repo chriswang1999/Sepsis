{
 "cells": [
  {
   "cell_type": "code",
   "execution_count": 2,
   "metadata": {},
   "outputs": [],
   "source": [
    "from __future__ import absolute_import, division, print_function\n",
    "\n",
    "import pandas as pd\n",
    "import numpy as np\n",
    "import sklearn as sk\n",
    "import os\n",
    "import tensorflow as tf\n",
    "from tensorflow import keras\n",
    "import seaborn as sns\n",
    "import h5py as h5py\n",
    "from time import time\n",
    "import matplotlib.pyplot as plt\n",
    "from sklearn.preprocessing import OneHotEncoder\n",
    "import seaborn as sns\n",
    "\n",
    "# %load_ext autoreload\n",
    "# %autoreload 2"
   ]
  },
  {
   "cell_type": "code",
   "execution_count": 3,
   "metadata": {},
   "outputs": [],
   "source": [
    "data = np.load(\"embedded_data_vae_nokl.npz\")"
   ]
  },
  {
   "cell_type": "code",
   "execution_count": 4,
   "metadata": {},
   "outputs": [
    {
     "name": "stdout",
     "output_type": "stream",
     "text": [
      "(39232, 31)\n"
     ]
    }
   ],
   "source": [
    "data.files\n",
    "print(data['x_test_e'].shape)"
   ]
  },
  {
   "cell_type": "code",
   "execution_count": 5,
   "metadata": {},
   "outputs": [
    {
     "data": {
      "text/plain": [
       "<matplotlib.axes._subplots.AxesSubplot at 0x126baef28>"
      ]
     },
     "execution_count": 5,
     "metadata": {},
     "output_type": "execute_result"
    },
    {
     "data": {
      "image/png": "[encoded data removed]",
      "text/plain": [
       "<Figure size 432x288 with 1 Axes>"
      ]
     },
     "metadata": {
      "needs_background": "light"
     },
     "output_type": "display_data"
    }
   ],
   "source": [
    "sns.distplot(data['x_train'][:,46:47])"
   ]
  },
  {
   "cell_type": "code",
   "execution_count": 6,
   "metadata": {},
   "outputs": [
    {
     "name": "stdout",
     "output_type": "stream",
     "text": [
      "(39232, 56)\n"
     ]
    }
   ],
   "source": [
    "\n",
    "final_df_train = pd.read_csv('train_state_action_reward_df.csv')\n",
    "final_df_test = pd.read_csv('test_state_action_reward_df.csv')\n",
    "print(final_df_test.shape)"
   ]
  },
  {
   "cell_type": "code",
   "execution_count": 7,
   "metadata": {},
   "outputs": [
    {
     "data": {
      "text/plain": [
       "Index(['subject_id', 'hadm_id', 'icustay_id', 'interval_start_time',\n",
       "       'interval_end_time', 'ALBUMIN', 'ANION GAP', 'BANDS', 'BICARBONATE',\n",
       "       'BILIRUBIN', 'BUN', 'CHLORIDE', 'CREATININE', 'DiasBP', 'Glucose',\n",
       "       'GLUCOSE', 'HeartRate', 'HEMATOCRIT', 'HEMOGLOBIN', 'INR', 'LACTATE',\n",
       "       'MeanBP', 'PaCO2', 'PLATELET', 'POTASSIUM', 'PT', 'PTT', 'RespRate',\n",
       "       'SODIUM', 'SpO2', 'SysBP', 'TempC', 'WBC', 'age', 'is_male',\n",
       "       'race_white', 'race_black', 'race_hispanic', 'race_other', 'height',\n",
       "       'weight', 'vent', 'sofa', 'lods', 'sirs', 'qsofa', 'qsofa_sysbp_score',\n",
       "       'qsofa_gcs_score', 'qsofa_resprate_score', 'elixhauser_hospital',\n",
       "       'blood_culture_positive', 'discrete_action', 'hospital_expire_flag',\n",
       "       'reward', 'row_id', 'row_id_next'],\n",
       "      dtype='object')"
      ]
     },
     "execution_count": 7,
     "metadata": {},
     "output_type": "execute_result"
    }
   ],
   "source": [
    "final_df_train.columns"
   ]
  },
  {
   "cell_type": "code",
   "execution_count": 8,
   "metadata": {},
   "outputs": [
    {
     "data": {
      "text/html": [
       "<div>\n",
       "<style scoped>\n",
       "    .dataframe tbody tr th:only-of-type {\n",
       "        vertical-align: middle;\n",
       "    }\n",
       "\n",
       "    .dataframe tbody tr th {\n",
       "        vertical-align: top;\n",
       "    }\n",
       "\n",
       "    .dataframe thead th {\n",
       "        text-align: right;\n",
       "    }\n",
       "</style>\n",
       "<table border=\"1\" class=\"dataframe\">\n",
       "  <thead>\n",
       "    <tr style=\"text-align: right;\">\n",
       "      <th></th>\n",
       "      <th>emb_0</th>\n",
       "      <th>emb_1</th>\n",
       "      <th>emb_2</th>\n",
       "      <th>emb_3</th>\n",
       "      <th>emb_4</th>\n",
       "      <th>emb_5</th>\n",
       "      <th>emb_6</th>\n",
       "      <th>emb_7</th>\n",
       "      <th>emb_8</th>\n",
       "      <th>emb_9</th>\n",
       "      <th>...</th>\n",
       "      <th>emb_20</th>\n",
       "      <th>emb_21</th>\n",
       "      <th>emb_22</th>\n",
       "      <th>emb_23</th>\n",
       "      <th>emb_24</th>\n",
       "      <th>emb_25</th>\n",
       "      <th>emb_26</th>\n",
       "      <th>emb_27</th>\n",
       "      <th>emb_28</th>\n",
       "      <th>emb_29</th>\n",
       "    </tr>\n",
       "  </thead>\n",
       "  <tbody>\n",
       "    <tr>\n",
       "      <th>0</th>\n",
       "      <td>0.187401</td>\n",
       "      <td>3.958101</td>\n",
       "      <td>0.472268</td>\n",
       "      <td>-0.139773</td>\n",
       "      <td>0.735442</td>\n",
       "      <td>-0.153290</td>\n",
       "      <td>-1.194377</td>\n",
       "      <td>-1.012972</td>\n",
       "      <td>0.389961</td>\n",
       "      <td>1.357446</td>\n",
       "      <td>...</td>\n",
       "      <td>1.394558</td>\n",
       "      <td>-0.848935</td>\n",
       "      <td>0.598768</td>\n",
       "      <td>-0.550669</td>\n",
       "      <td>1.359470</td>\n",
       "      <td>-0.563808</td>\n",
       "      <td>1.229256</td>\n",
       "      <td>0.126772</td>\n",
       "      <td>-3.694055</td>\n",
       "      <td>1.459705</td>\n",
       "    </tr>\n",
       "    <tr>\n",
       "      <th>1</th>\n",
       "      <td>0.153618</td>\n",
       "      <td>3.999811</td>\n",
       "      <td>0.475729</td>\n",
       "      <td>-0.092441</td>\n",
       "      <td>0.775785</td>\n",
       "      <td>-0.074642</td>\n",
       "      <td>-1.080217</td>\n",
       "      <td>-0.850899</td>\n",
       "      <td>0.592073</td>\n",
       "      <td>1.402950</td>\n",
       "      <td>...</td>\n",
       "      <td>1.234463</td>\n",
       "      <td>-0.912077</td>\n",
       "      <td>0.548676</td>\n",
       "      <td>-0.673983</td>\n",
       "      <td>1.366719</td>\n",
       "      <td>-0.593577</td>\n",
       "      <td>1.258903</td>\n",
       "      <td>0.405502</td>\n",
       "      <td>-3.921488</td>\n",
       "      <td>1.204356</td>\n",
       "    </tr>\n",
       "    <tr>\n",
       "      <th>2</th>\n",
       "      <td>0.150906</td>\n",
       "      <td>3.723779</td>\n",
       "      <td>0.464004</td>\n",
       "      <td>-0.137541</td>\n",
       "      <td>1.006575</td>\n",
       "      <td>0.015126</td>\n",
       "      <td>-0.906126</td>\n",
       "      <td>-0.975521</td>\n",
       "      <td>0.447679</td>\n",
       "      <td>1.298515</td>\n",
       "      <td>...</td>\n",
       "      <td>1.325724</td>\n",
       "      <td>-0.995530</td>\n",
       "      <td>0.600313</td>\n",
       "      <td>-0.733013</td>\n",
       "      <td>1.350996</td>\n",
       "      <td>-0.468612</td>\n",
       "      <td>1.218910</td>\n",
       "      <td>0.510290</td>\n",
       "      <td>-3.759446</td>\n",
       "      <td>1.215971</td>\n",
       "    </tr>\n",
       "    <tr>\n",
       "      <th>3</th>\n",
       "      <td>0.305264</td>\n",
       "      <td>3.555363</td>\n",
       "      <td>1.017435</td>\n",
       "      <td>0.021784</td>\n",
       "      <td>1.052130</td>\n",
       "      <td>-1.036112</td>\n",
       "      <td>-1.165587</td>\n",
       "      <td>-0.202922</td>\n",
       "      <td>0.238243</td>\n",
       "      <td>2.223132</td>\n",
       "      <td>...</td>\n",
       "      <td>0.968919</td>\n",
       "      <td>-0.387632</td>\n",
       "      <td>0.735939</td>\n",
       "      <td>-0.889601</td>\n",
       "      <td>1.723265</td>\n",
       "      <td>-0.727432</td>\n",
       "      <td>0.847920</td>\n",
       "      <td>0.688438</td>\n",
       "      <td>-3.916931</td>\n",
       "      <td>0.345471</td>\n",
       "    </tr>\n",
       "    <tr>\n",
       "      <th>4</th>\n",
       "      <td>-0.022681</td>\n",
       "      <td>3.748852</td>\n",
       "      <td>0.727602</td>\n",
       "      <td>-0.183611</td>\n",
       "      <td>0.874978</td>\n",
       "      <td>-0.633402</td>\n",
       "      <td>-0.836109</td>\n",
       "      <td>-0.476325</td>\n",
       "      <td>0.221943</td>\n",
       "      <td>2.120401</td>\n",
       "      <td>...</td>\n",
       "      <td>0.982527</td>\n",
       "      <td>-0.187802</td>\n",
       "      <td>0.672592</td>\n",
       "      <td>-0.892616</td>\n",
       "      <td>1.680194</td>\n",
       "      <td>-0.630756</td>\n",
       "      <td>0.612514</td>\n",
       "      <td>0.361811</td>\n",
       "      <td>-4.333654</td>\n",
       "      <td>0.535367</td>\n",
       "    </tr>\n",
       "  </tbody>\n",
       "</table>\n",
       "<p>5 rows × 30 columns</p>\n",
       "</div>"
      ],
      "text/plain": [
       "      emb_0     emb_1     emb_2     emb_3     emb_4     emb_5     emb_6  \\\n",
       "0  0.187401  3.958101  0.472268 -0.139773  0.735442 -0.153290 -1.194377   \n",
       "1  0.153618  3.999811  0.475729 -0.092441  0.775785 -0.074642 -1.080217   \n",
       "2  0.150906  3.723779  0.464004 -0.137541  1.006575  0.015126 -0.906126   \n",
       "3  0.305264  3.555363  1.017435  0.021784  1.052130 -1.036112 -1.165587   \n",
       "4 -0.022681  3.748852  0.727602 -0.183611  0.874978 -0.633402 -0.836109   \n",
       "\n",
       "      emb_7     emb_8     emb_9  ...    emb_20    emb_21    emb_22    emb_23  \\\n",
       "0 -1.012972  0.389961  1.357446  ...  1.394558 -0.848935  0.598768 -0.550669   \n",
       "1 -0.850899  0.592073  1.402950  ...  1.234463 -0.912077  0.548676 -0.673983   \n",
       "2 -0.975521  0.447679  1.298515  ...  1.325724 -0.995530  0.600313 -0.733013   \n",
       "3 -0.202922  0.238243  2.223132  ...  0.968919 -0.387632  0.735939 -0.889601   \n",
       "4 -0.476325  0.221943  2.120401  ...  0.982527 -0.187802  0.672592 -0.892616   \n",
       "\n",
       "     emb_24    emb_25    emb_26    emb_27    emb_28    emb_29  \n",
       "0  1.359470 -0.563808  1.229256  0.126772 -3.694055  1.459705  \n",
       "1  1.366719 -0.593577  1.258903  0.405502 -3.921488  1.204356  \n",
       "2  1.350996 -0.468612  1.218910  0.510290 -3.759446  1.215971  \n",
       "3  1.723265 -0.727432  0.847920  0.688438 -3.916931  0.345471  \n",
       "4  1.680194 -0.630756  0.612514  0.361811 -4.333654  0.535367  \n",
       "\n",
       "[5 rows x 30 columns]"
      ]
     },
     "execution_count": 8,
     "metadata": {},
     "output_type": "execute_result"
    }
   ],
   "source": [
    "embedding = pd.DataFrame(data['x_train_e'][:,:-1], columns=[\"emb_\" + str(i) for i in range(30)])\n",
    "embedding.head()"
   ]
  },
  {
   "cell_type": "code",
   "execution_count": 9,
   "metadata": {},
   "outputs": [],
   "source": [
    "\n",
    "def get_combined(embedded, non_embedded):\n",
    "    embedding = pd.DataFrame(embedded[:,:-1], columns=[\"emb_\" + str(i) for i in range(30)])\n",
    "    first_part = non_embedded.iloc[:,:5]\n",
    "    replace = non_embedded.iloc[:,5:-5]\n",
    "    last_part = non_embedded.iloc[:,-5:]\n",
    "    intermediate = first_part.join(embedding)\n",
    "    train_x= intermediate.join(last_part)\n",
    "    return train_x\n",
    "\n",
    "final_df_test = get_combined(data['x_test_e'], final_df_test)\n",
    "final_df_train = get_combined(data['x_train_e'], final_df_train)\n"
   ]
  },
  {
   "cell_type": "code",
   "execution_count": 10,
   "metadata": {},
   "outputs": [
    {
     "data": {
      "text/plain": [
       "(153582, 40)"
      ]
     },
     "execution_count": 10,
     "metadata": {},
     "output_type": "execute_result"
    }
   ],
   "source": [
    "final_df_train.shape"
   ]
  },
  {
   "cell_type": "code",
   "execution_count": 11,
   "metadata": {},
   "outputs": [],
   "source": [
    "# add timestamps per episode\n",
    "final_df_test['time_step'] =  final_df_test.groupby(['subject_id','hadm_id','icustay_id']).cumcount()+1\n",
    "final_df_train['time_step'] =  final_df_train.groupby(['subject_id','hadm_id','icustay_id']).cumcount()+1"
   ]
  },
  {
   "cell_type": "code",
   "execution_count": 12,
   "metadata": {},
   "outputs": [
    {
     "data": {
      "text/plain": [
       "(array([1.3700e+04, 0.0000e+00, 1.3443e+04, 0.0000e+00, 0.0000e+00,\n",
       "        1.3174e+04, 0.0000e+00, 1.2830e+04, 0.0000e+00, 0.0000e+00,\n",
       "        1.2539e+04, 0.0000e+00, 0.0000e+00, 1.2220e+04, 0.0000e+00,\n",
       "        1.1909e+04, 0.0000e+00, 0.0000e+00, 1.1409e+04, 0.0000e+00,\n",
       "        0.0000e+00, 1.0659e+04, 0.0000e+00, 9.6770e+03, 0.0000e+00,\n",
       "        0.0000e+00, 8.6580e+03, 0.0000e+00, 7.6900e+03, 0.0000e+00,\n",
       "        0.0000e+00, 6.4720e+03, 0.0000e+00, 0.0000e+00, 3.4410e+03,\n",
       "        0.0000e+00, 2.1310e+03, 0.0000e+00, 0.0000e+00, 1.5170e+03,\n",
       "        0.0000e+00, 0.0000e+00, 1.1640e+03, 0.0000e+00, 9.4700e+02,\n",
       "        0.0000e+00, 0.0000e+00, 1.0000e+00, 0.0000e+00, 1.0000e+00]),\n",
       " array([ 1.  ,  1.38,  1.76,  2.14,  2.52,  2.9 ,  3.28,  3.66,  4.04,\n",
       "         4.42,  4.8 ,  5.18,  5.56,  5.94,  6.32,  6.7 ,  7.08,  7.46,\n",
       "         7.84,  8.22,  8.6 ,  8.98,  9.36,  9.74, 10.12, 10.5 , 10.88,\n",
       "        11.26, 11.64, 12.02, 12.4 , 12.78, 13.16, 13.54, 13.92, 14.3 ,\n",
       "        14.68, 15.06, 15.44, 15.82, 16.2 , 16.58, 16.96, 17.34, 17.72,\n",
       "        18.1 , 18.48, 18.86, 19.24, 19.62, 20.  ]),\n",
       " <a list of 50 Patch objects>)"
      ]
     },
     "execution_count": 12,
     "metadata": {},
     "output_type": "execute_result"
    },
    {
     "data": {
      "image/png": "[encoded data removed]",
      "text/plain": [
       "<Figure size 432x288 with 1 Axes>"
      ]
     },
     "metadata": {
      "needs_background": "light"
     },
     "output_type": "display_data"
    }
   ],
   "source": [
    "plt.hist(final_df_train['time_step'], bins=50)"
   ]
  },
  {
   "cell_type": "code",
   "execution_count": 13,
   "metadata": {},
   "outputs": [
    {
     "data": {
      "text/plain": [
       "(array([3422.,    0., 3361.,    0.,    0., 3310.,    0.,    0., 3220.,\n",
       "           0.,    0., 3148.,    0.,    0., 3087.,    0.,    0., 3000.,\n",
       "           0.,    0., 2900.,    0.,    0., 2728.,    0.,    0., 2497.,\n",
       "           0.,    0., 2270.,    0.,    0., 2049.,    0.,    0., 1720.,\n",
       "           0.,    0.,  929.,    0.,    0.,  583.,    0.,    0.,  416.,\n",
       "           0.,    0.,  326.,    0.,  266.]),\n",
       " array([ 1.  ,  1.34,  1.68,  2.02,  2.36,  2.7 ,  3.04,  3.38,  3.72,\n",
       "         4.06,  4.4 ,  4.74,  5.08,  5.42,  5.76,  6.1 ,  6.44,  6.78,\n",
       "         7.12,  7.46,  7.8 ,  8.14,  8.48,  8.82,  9.16,  9.5 ,  9.84,\n",
       "        10.18, 10.52, 10.86, 11.2 , 11.54, 11.88, 12.22, 12.56, 12.9 ,\n",
       "        13.24, 13.58, 13.92, 14.26, 14.6 , 14.94, 15.28, 15.62, 15.96,\n",
       "        16.3 , 16.64, 16.98, 17.32, 17.66, 18.  ]),\n",
       " <a list of 50 Patch objects>)"
      ]
     },
     "execution_count": 13,
     "metadata": {},
     "output_type": "execute_result"
    },
    {
     "data": {
      "image/png": "[encoded data removed]",
      "text/plain": [
       "<Figure size 432x288 with 1 Axes>"
      ]
     },
     "metadata": {
      "needs_background": "light"
     },
     "output_type": "display_data"
    }
   ],
   "source": [
    "plt.hist(final_df_test['time_step'], bins=50)"
   ]
  },
  {
   "cell_type": "code",
   "execution_count": 14,
   "metadata": {},
   "outputs": [],
   "source": [
    "# remove time steps that are 10+ steps away from end of episode\n",
    "# we will only guess death based on the last 10 episodes\n",
    "episode_lengths_test = final_df_test.groupby(['subject_id','hadm_id','icustay_id']).agg(\"count\").rename(columns={\"interval_start_time\": \"episode_length\"})[\"episode_length\"].reset_index()\n",
    "episode_lengths_train = final_df_train.groupby(['subject_id','hadm_id','icustay_id']).agg(\"count\").rename(columns={\"interval_start_time\": \"episode_length\"})[\"episode_length\"].reset_index()\n",
    "\n",
    "episode_rewards_test = final_df_test.groupby(['subject_id','hadm_id','icustay_id']).agg(\"sum\").rename(columns={\"reward\": \"total_reward\"})[\"total_reward\"].reset_index()\n",
    "episode_rewards_train = final_df_train.groupby(['subject_id','hadm_id','icustay_id']).agg(\"sum\").rename(columns={\"reward\": \"total_reward\"})[\"total_reward\"].reset_index()\n",
    "\n",
    "\n",
    "\n",
    "final_df_train = final_df_train.merge(episode_lengths_train, how=\"outer\", on=['subject_id', 'hadm_id', 'icustay_id'])\n",
    "final_df_test = final_df_test.merge(episode_lengths_test, how=\"outer\", on=['subject_id', 'hadm_id', 'icustay_id'])\n",
    "\n",
    "final_df_train = final_df_train.merge(episode_rewards_train, how=\"outer\", on=['subject_id', 'hadm_id', 'icustay_id'])\n",
    "final_df_test = final_df_test.merge(episode_rewards_test, how=\"outer\", on=['subject_id', 'hadm_id', 'icustay_id'])\n",
    "\n"
   ]
  },
  {
   "cell_type": "code",
   "execution_count": 15,
   "metadata": {},
   "outputs": [],
   "source": [
    "final_df_train['distance_from_last'] = final_df_train[\"episode_length\"] - final_df_train[\"time_step\"]"
   ]
  },
  {
   "cell_type": "code",
   "execution_count": 16,
   "metadata": {},
   "outputs": [],
   "source": [
    "final_df_test['distance_from_last'] = final_df_test[\"episode_length\"] - final_df_test[\"time_step\"]"
   ]
  },
  {
   "cell_type": "code",
   "execution_count": 17,
   "metadata": {},
   "outputs": [
    {
     "data": {
      "text/plain": [
       "39232"
      ]
     },
     "execution_count": 17,
     "metadata": {},
     "output_type": "execute_result"
    }
   ],
   "source": [
    "len(final_df_test)"
   ]
  },
  {
   "cell_type": "code",
   "execution_count": 18,
   "metadata": {},
   "outputs": [],
   "source": [
    "final_df_test = final_df_test[final_df_test[\"distance_from_last\"]<10]\n",
    "final_df_train = final_df_train[final_df_train[\"distance_from_last\"]<10]"
   ]
  },
  {
   "cell_type": "code",
   "execution_count": 19,
   "metadata": {},
   "outputs": [
    {
     "data": {
      "text/plain": [
       "121560"
      ]
     },
     "execution_count": 19,
     "metadata": {},
     "output_type": "execute_result"
    }
   ],
   "source": [
    "len(final_df_train)"
   ]
  },
  {
   "cell_type": "code",
   "execution_count": 20,
   "metadata": {},
   "outputs": [
    {
     "name": "stdout",
     "output_type": "stream",
     "text": [
      "(30673, 1)\n",
      "  (0, 0)\t1.0\n",
      "  (1, 0)\t1.0\n",
      "  (2, 0)\t1.0\n",
      "  (3, 0)\t1.0\n",
      "  (4, 0)\t1.0\n",
      "  (5, 0)\t1.0\n",
      "  (6, 0)\t1.0\n",
      "  (7, 0)\t1.0\n",
      "  (8, 0)\t1.0\n",
      "  (9, 1)\t1.0\n",
      "  (10, 0)\t1.0\n",
      "  (11, 0)\t1.0\n",
      "  (12, 0)\t1.0\n",
      "  (13, 0)\t1.0\n",
      "  (14, 0)\t1.0\n",
      "  (15, 0)\t1.0\n",
      "  (16, 0)\t1.0\n",
      "  (17, 0)\t1.0\n",
      "  (18, 0)\t1.0\n",
      "  (19, 1)\t1.0\n",
      "  (20, 0)\t1.0\n",
      "  (21, 0)\t1.0\n",
      "  (22, 0)\t1.0\n",
      "  (23, 0)\t1.0\n",
      "  (24, 0)\t1.0\n",
      "  :\t:\n",
      "  (121525, 0)\t1.0\n",
      "  (121526, 0)\t1.0\n",
      "  (121527, 0)\t1.0\n",
      "  (121528, 0)\t1.0\n",
      "  (121529, 1)\t1.0\n",
      "  (121530, 0)\t1.0\n",
      "  (121531, 0)\t1.0\n",
      "  (121532, 0)\t1.0\n",
      "  (121533, 0)\t1.0\n",
      "  (121534, 0)\t1.0\n",
      "  (121535, 0)\t1.0\n",
      "  (121536, 0)\t1.0\n",
      "  (121537, 0)\t1.0\n",
      "  (121538, 0)\t1.0\n",
      "  (121539, 1)\t1.0\n",
      "  (121540, 0)\t1.0\n",
      "  (121541, 1)\t1.0\n",
      "  (121542, 0)\t1.0\n",
      "  (121543, 0)\t1.0\n",
      "  (121544, 0)\t1.0\n",
      "  (121545, 0)\t1.0\n",
      "  (121546, 0)\t1.0\n",
      "  (121547, 0)\t1.0\n",
      "  (121548, 0)\t1.0\n",
      "  (121549, 1)\t1.0\n"
     ]
    }
   ],
   "source": [
    "def term(df):\n",
    "    if df.reward == 0:\n",
    "        return \"continue\"\n",
    "    if abs(df.reward) == 15:\n",
    "        return \"done\"  \n",
    "\n",
    "# remove one anomly in the data\n",
    "final_df_train=final_df_train[final_df_train[\"total_reward\"]<=15]\n",
    "final_df_test=final_df_test[final_df_test[\"total_reward\"]<=15]\n",
    "labels_train = final_df_train[['reward']].apply(term, axis=1).values.reshape(-1, 1)\n",
    "labels_test = final_df_test[['reward']].apply(term, axis=1).values.reshape(-1, 1)\n",
    "print(labels_test.shape)\n",
    "enc = OneHotEncoder()\n",
    "enc.fit(labels_train)\n",
    "\n",
    "labels_train_one_hot = enc.transform(labels_train)\n",
    "labels_test_one_hot = enc.transform(labels_test)\n",
    "print(labels_train_one_hot)"
   ]
  },
  {
   "cell_type": "code",
   "execution_count": 21,
   "metadata": {},
   "outputs": [
    {
     "data": {
      "text/plain": [
       "[array(['continue', 'done'], dtype=object)]"
      ]
     },
     "execution_count": 21,
     "metadata": {},
     "output_type": "execute_result"
    }
   ],
   "source": [
    "enc.categories_"
   ]
  },
  {
   "cell_type": "code",
   "execution_count": 22,
   "metadata": {},
   "outputs": [
    {
     "data": {
      "text/plain": [
       "(121550, 2)"
      ]
     },
     "execution_count": 22,
     "metadata": {},
     "output_type": "execute_result"
    }
   ],
   "source": [
    "labels_train_one_hot.shape"
   ]
  },
  {
   "cell_type": "code",
   "execution_count": 23,
   "metadata": {},
   "outputs": [
    {
     "data": {
      "text/plain": [
       "(30673, 44)"
      ]
     },
     "execution_count": 23,
     "metadata": {},
     "output_type": "execute_result"
    }
   ],
   "source": [
    "final_df_test.shape"
   ]
  },
  {
   "cell_type": "code",
   "execution_count": 24,
   "metadata": {},
   "outputs": [
    {
     "data": {
      "text/plain": [
       "Index(['subject_id', 'hadm_id', 'icustay_id', 'interval_start_time',\n",
       "       'interval_end_time', 'emb_0', 'emb_1', 'emb_2', 'emb_3', 'emb_4',\n",
       "       'emb_5', 'emb_6', 'emb_7', 'emb_8', 'emb_9', 'emb_10', 'emb_11',\n",
       "       'emb_12', 'emb_13', 'emb_14', 'emb_15', 'emb_16', 'emb_17', 'emb_18',\n",
       "       'emb_19', 'emb_20', 'emb_21', 'emb_22', 'emb_23', 'emb_24', 'emb_25',\n",
       "       'emb_26', 'emb_27', 'emb_28', 'emb_29', 'discrete_action',\n",
       "       'hospital_expire_flag', 'reward', 'row_id', 'row_id_next', 'time_step',\n",
       "       'episode_length', 'total_reward', 'distance_from_last'],\n",
       "      dtype='object')"
      ]
     },
     "execution_count": 24,
     "metadata": {},
     "output_type": "execute_result"
    }
   ],
   "source": [
    "final_df_train.columns"
   ]
  },
  {
   "cell_type": "code",
   "execution_count": 25,
   "metadata": {},
   "outputs": [
    {
     "name": "stdout",
     "output_type": "stream",
     "text": [
      "32\n"
     ]
    }
   ],
   "source": [
    "max_episode = 10\n",
    "\n",
    "features = ['emb_0', 'emb_1', 'emb_2', 'emb_3', 'emb_4',\n",
    "       'emb_5', 'emb_6', 'emb_7', 'emb_8', 'emb_9', 'emb_10', 'emb_11',\n",
    "       'emb_12', 'emb_13', 'emb_14', 'emb_15', 'emb_16', 'emb_17', 'emb_18',\n",
    "       'emb_19', 'emb_20', 'emb_21', 'emb_22', 'emb_23', 'emb_24', 'emb_25',\n",
    "       'emb_26', 'emb_27', 'emb_28', 'emb_29', 'discrete_action' ,'time_step']\n",
    "print(len(features))\n",
    "\n",
    "def get_x_y(final_df):\n",
    "    final_df_train_copy = final_df.copy()\n",
    "    final_df_train_copy = final_df_train_copy.rename(columns={'row_id': 'row_id_old'})\n",
    "    final_df_train_copy =  final_df_train_copy.rename(columns={'row_id_next': 'row_id'})\n",
    "    key_value_train = final_df_train_copy.merge(final_df,  on=('subject_id', 'hadm_id', 'icustay_id', 'row_id'), how='left')\n",
    "    train_x = key_value_train[[s + \"_x\" for s in features]]\n",
    "    train_y = key_value_train[[s + \"_y\" for s in features]]\n",
    "    return train_x.values, train_y.values\n",
    "\n",
    "\n",
    "def get_padded_matrix(x_, y_):\n",
    "    episode_matrix = np.zeros(shape=[x_.shape[0], max_episode, x_.shape[1]])\n",
    "    episode = []\n",
    "    labels_episode = []\n",
    "    for idx in range(len(x_)):\n",
    "        # within on episode\n",
    "        episode.append(x_[idx])\n",
    "        for event_idx in range(min(len(episode), max_episode)):\n",
    "            episode_matrix[idx][-(event_idx%max_episode)-1] = episode[-event_idx - 1]\n",
    "        if np.equal(x_[idx],y_[idx]).all():\n",
    "            # episode changed\n",
    "            episode = []\n",
    "    return episode_matrix"
   ]
  },
  {
   "cell_type": "code",
   "execution_count": 26,
   "metadata": {},
   "outputs": [
    {
     "data": {
      "text/plain": [
       "(121550, 44)"
      ]
     },
     "execution_count": 26,
     "metadata": {},
     "output_type": "execute_result"
    }
   ],
   "source": [
    "final_df_train.values.shape"
   ]
  },
  {
   "cell_type": "code",
   "execution_count": 27,
   "metadata": {},
   "outputs": [],
   "source": [
    "train_x, train_y = get_x_y(final_df_train)"
   ]
  },
  {
   "cell_type": "code",
   "execution_count": 28,
   "metadata": {},
   "outputs": [],
   "source": [
    "test_x, test_y = get_x_y(final_df_test)"
   ]
  },
  {
   "cell_type": "code",
   "execution_count": null,
   "metadata": {},
   "outputs": [],
   "source": []
  },
  {
   "cell_type": "code",
   "execution_count": 29,
   "metadata": {},
   "outputs": [],
   "source": [
    "train_matrix = get_padded_matrix( train_x, train_y )\n",
    "test_matrix = get_padded_matrix( test_x, test_y )"
   ]
  },
  {
   "cell_type": "code",
   "execution_count": null,
   "metadata": {},
   "outputs": [],
   "source": []
  },
  {
   "cell_type": "code",
   "execution_count": 30,
   "metadata": {},
   "outputs": [],
   "source": [
    "model = tf.keras.Sequential([\n",
    "    tf.keras.layers.LSTM(50, input_shape=(train_matrix.shape[1], train_matrix.shape[2])),\n",
    "    tf.keras.layers.Dense(128, activation='relu'),\n",
    "    tf.keras.layers.Dense(2, activation='softmax')\n",
    "])"
   ]
  },
  {
   "cell_type": "code",
   "execution_count": 31,
   "metadata": {},
   "outputs": [
    {
     "name": "stdout",
     "output_type": "stream",
     "text": [
      "_________________________________________________________________\n",
      "Layer (type)                 Output Shape              Param #   \n",
      "=================================================================\n",
      "lstm_1 (LSTM)                (None, 50)                16600     \n",
      "_________________________________________________________________\n",
      "dense_1 (Dense)              (None, 128)               6528      \n",
      "_________________________________________________________________\n",
      "dense_2 (Dense)              (None, 2)                 258       \n",
      "=================================================================\n",
      "Total params: 23,386\n",
      "Trainable params: 23,386\n",
      "Non-trainable params: 0\n",
      "_________________________________________________________________\n"
     ]
    }
   ],
   "source": [
    "model.summary()"
   ]
  },
  {
   "cell_type": "code",
   "execution_count": 32,
   "metadata": {},
   "outputs": [],
   "source": [
    "optimizer = keras.optimizers.Adam()\n",
    "model.compile(optimizer='adam', loss='categorical_crossentropy', metrics=['accuracy'])"
   ]
  },
  {
   "cell_type": "code",
   "execution_count": 33,
   "metadata": {},
   "outputs": [
    {
     "name": "stdout",
     "output_type": "stream",
     "text": [
      "  (0, 0)\t1.0\n",
      "  (1, 0)\t1.0\n",
      "  (2, 0)\t1.0\n",
      "  (3, 0)\t1.0\n",
      "  (4, 0)\t1.0\n",
      "  (5, 1)\t1.0\n",
      "  (6, 0)\t1.0\n",
      "  (7, 0)\t1.0\n",
      "  (8, 0)\t1.0\n",
      "  (9, 0)\t1.0\n",
      "  (10, 0)\t1.0\n",
      "  (11, 0)\t1.0\n",
      "  (12, 0)\t1.0\n",
      "  (13, 0)\t1.0\n",
      "  (14, 0)\t1.0\n",
      "  (15, 1)\t1.0\n",
      "  (16, 0)\t1.0\n",
      "  (17, 0)\t1.0\n",
      "  (18, 1)\t1.0\n",
      "  (19, 0)\t1.0\n",
      "  (20, 0)\t1.0\n",
      "  (21, 0)\t1.0\n",
      "  (22, 0)\t1.0\n",
      "  (23, 0)\t1.0\n",
      "  (24, 0)\t1.0\n",
      "  :\t:\n",
      "  (30648, 0)\t1.0\n",
      "  (30649, 0)\t1.0\n",
      "  (30650, 0)\t1.0\n",
      "  (30651, 0)\t1.0\n",
      "  (30652, 1)\t1.0\n",
      "  (30653, 0)\t1.0\n",
      "  (30654, 0)\t1.0\n",
      "  (30655, 0)\t1.0\n",
      "  (30656, 0)\t1.0\n",
      "  (30657, 0)\t1.0\n",
      "  (30658, 0)\t1.0\n",
      "  (30659, 0)\t1.0\n",
      "  (30660, 0)\t1.0\n",
      "  (30661, 0)\t1.0\n",
      "  (30662, 1)\t1.0\n",
      "  (30663, 0)\t1.0\n",
      "  (30664, 0)\t1.0\n",
      "  (30665, 0)\t1.0\n",
      "  (30666, 0)\t1.0\n",
      "  (30667, 0)\t1.0\n",
      "  (30668, 0)\t1.0\n",
      "  (30669, 0)\t1.0\n",
      "  (30670, 0)\t1.0\n",
      "  (30671, 0)\t1.0\n",
      "  (30672, 1)\t1.0\n"
     ]
    }
   ],
   "source": [
    "print(labels_test_one_hot[:])"
   ]
  },
  {
   "cell_type": "code",
   "execution_count": 34,
   "metadata": {},
   "outputs": [
    {
     "data": {
      "text/plain": [
       "(30673, 2)"
      ]
     },
     "execution_count": 34,
     "metadata": {},
     "output_type": "execute_result"
    }
   ],
   "source": [
    "labels_test_one_hot.shape"
   ]
  },
  {
   "cell_type": "code",
   "execution_count": 35,
   "metadata": {},
   "outputs": [
    {
     "data": {
      "text/plain": [
       "(121550, 2)"
      ]
     },
     "execution_count": 35,
     "metadata": {},
     "output_type": "execute_result"
    }
   ],
   "source": [
    " labels_train_one_hot.shape"
   ]
  },
  {
   "cell_type": "code",
   "execution_count": 36,
   "metadata": {},
   "outputs": [
    {
     "name": "stdout",
     "output_type": "stream",
     "text": [
      "Train on 121550 samples, validate on 30673 samples\n",
      "Epoch 1/10\n",
      "121550/121550 [==============================] - 49s 402us/step - loss: 0.1098 - acc: 0.9608 - val_loss: 0.0793 - val_acc: 0.9697\n",
      "\n",
      "Epoch 00001: val_acc improved from -inf to 0.96968, saving model to sepsis_termination_vae.model\n",
      "Epoch 2/10\n",
      "121550/121550 [==============================] - 42s 349us/step - loss: 0.0835 - acc: 0.9688 - val_loss: 0.0744 - val_acc: 0.9713\n",
      "\n",
      "Epoch 00002: val_acc improved from 0.96968 to 0.97128, saving model to sepsis_termination_vae.model\n",
      "Epoch 3/10\n",
      "121550/121550 [==============================] - 51s 418us/step - loss: 0.0810 - acc: 0.9690 - val_loss: 0.0714 - val_acc: 0.9717\n",
      "\n",
      "Epoch 00003: val_acc improved from 0.97128 to 0.97170, saving model to sepsis_termination_vae.model\n",
      "Epoch 4/10\n",
      "121550/121550 [==============================] - 47s 389us/step - loss: 0.0797 - acc: 0.9692 - val_loss: 0.0708 - val_acc: 0.9724\n",
      "\n",
      "Epoch 00004: val_acc improved from 0.97170 to 0.97239, saving model to sepsis_termination_vae.model\n",
      "Epoch 5/10\n",
      "121550/121550 [==============================] - 46s 380us/step - loss: 0.0786 - acc: 0.9696 - val_loss: 0.0769 - val_acc: 0.9717\n",
      "\n",
      "Epoch 00005: val_acc did not improve\n",
      "Epoch 6/10\n",
      "121550/121550 [==============================] - 49s 404us/step - loss: 0.0777 - acc: 0.9697 - val_loss: 0.0716 - val_acc: 0.9717\n",
      "\n",
      "Epoch 00006: val_acc did not improve\n",
      "Epoch 7/10\n",
      "121550/121550 [==============================] - 50s 415us/step - loss: 0.0767 - acc: 0.9701 - val_loss: 0.0722 - val_acc: 0.9720\n",
      "\n",
      "Epoch 00007: val_acc did not improve\n"
     ]
    },
    {
     "data": {
      "text/plain": [
       "<tensorflow.python.keras._impl.keras.callbacks.History at 0x1293eca58>"
      ]
     },
     "execution_count": 36,
     "metadata": {},
     "output_type": "execute_result"
    }
   ],
   "source": [
    "early_stop =tf.keras.callbacks.EarlyStopping(monitor='val_loss', patience=3)\n",
    "cp_callback = tf.keras.callbacks.ModelCheckpoint(\"sepsis_termination_vae.model\",\n",
    "                                                 verbose=1, monitor='val_acc', save_best_only=True)\n",
    "\n",
    "tensorboard = keras.callbacks.TensorBoard(log_dir=\"logs/termination_vae{}\".format(time()))\n",
    "model.fit(train_matrix, labels_train_one_hot, epochs=10, validation_data=(test_matrix, labels_test_one_hot), callbacks=[tensorboard, cp_callback, early_stop])\n"
   ]
  },
  {
   "cell_type": "code",
   "execution_count": 36,
   "metadata": {},
   "outputs": [
    {
     "ename": "OSError",
     "evalue": "Unable to open file (unable to open file: name = 'sepsis_outcome.model', errno = 2, error message = 'No such file or directory', flags = 0, o_flags = 0)",
     "output_type": "error",
     "traceback": [
      "\u001b[0;31m---------------------------------------------------------------------------\u001b[0m",
      "\u001b[0;31mOSError\u001b[0m                                   Traceback (most recent call last)",
      "\u001b[0;32m<ipython-input-36-f664035e067c>\u001b[0m in \u001b[0;36m<module>\u001b[0;34m\u001b[0m\n\u001b[0;32m----> 1\u001b[0;31m \u001b[0mtf\u001b[0m\u001b[0;34m.\u001b[0m\u001b[0mkeras\u001b[0m\u001b[0;34m.\u001b[0m\u001b[0mmodels\u001b[0m\u001b[0;34m.\u001b[0m\u001b[0mload_model\u001b[0m\u001b[0;34m(\u001b[0m\u001b[0;34m\"sepsis_outcome.model\"\u001b[0m\u001b[0;34m)\u001b[0m\u001b[0;34m\u001b[0m\u001b[0;34m\u001b[0m\u001b[0m\n\u001b[0m",
      "\u001b[0;32m~/anaconda3/lib/python3.6/site-packages/tensorflow/python/keras/_impl/keras/engine/saving.py\u001b[0m in \u001b[0;36mload_model\u001b[0;34m(filepath, custom_objects, compile)\u001b[0m\n\u001b[1;32m    232\u001b[0m     \u001b[0;32mreturn\u001b[0m \u001b[0mobj\u001b[0m\u001b[0;34m\u001b[0m\u001b[0;34m\u001b[0m\u001b[0m\n\u001b[1;32m    233\u001b[0m \u001b[0;34m\u001b[0m\u001b[0m\n\u001b[0;32m--> 234\u001b[0;31m   \u001b[0;32mwith\u001b[0m \u001b[0mh5py\u001b[0m\u001b[0;34m.\u001b[0m\u001b[0mFile\u001b[0m\u001b[0;34m(\u001b[0m\u001b[0mfilepath\u001b[0m\u001b[0;34m,\u001b[0m \u001b[0mmode\u001b[0m\u001b[0;34m=\u001b[0m\u001b[0;34m'r'\u001b[0m\u001b[0;34m)\u001b[0m \u001b[0;32mas\u001b[0m \u001b[0mf\u001b[0m\u001b[0;34m:\u001b[0m\u001b[0;34m\u001b[0m\u001b[0;34m\u001b[0m\u001b[0m\n\u001b[0m\u001b[1;32m    235\u001b[0m     \u001b[0;31m# instantiate model\u001b[0m\u001b[0;34m\u001b[0m\u001b[0;34m\u001b[0m\u001b[0;34m\u001b[0m\u001b[0m\n\u001b[1;32m    236\u001b[0m     \u001b[0mmodel_config\u001b[0m \u001b[0;34m=\u001b[0m \u001b[0mf\u001b[0m\u001b[0;34m.\u001b[0m\u001b[0mattrs\u001b[0m\u001b[0;34m.\u001b[0m\u001b[0mget\u001b[0m\u001b[0;34m(\u001b[0m\u001b[0;34m'model_config'\u001b[0m\u001b[0;34m)\u001b[0m\u001b[0;34m\u001b[0m\u001b[0;34m\u001b[0m\u001b[0m\n",
      "\u001b[0;32m~/anaconda3/lib/python3.6/site-packages/h5py/_hl/files.py\u001b[0m in \u001b[0;36m__init__\u001b[0;34m(self, name, mode, driver, libver, userblock_size, swmr, rdcc_nslots, rdcc_nbytes, rdcc_w0, track_order, **kwds)\u001b[0m\n\u001b[1;32m    392\u001b[0m                 fid = make_fid(name, mode, userblock_size,\n\u001b[1;32m    393\u001b[0m                                \u001b[0mfapl\u001b[0m\u001b[0;34m,\u001b[0m \u001b[0mfcpl\u001b[0m\u001b[0;34m=\u001b[0m\u001b[0mmake_fcpl\u001b[0m\u001b[0;34m(\u001b[0m\u001b[0mtrack_order\u001b[0m\u001b[0;34m=\u001b[0m\u001b[0mtrack_order\u001b[0m\u001b[0;34m)\u001b[0m\u001b[0;34m,\u001b[0m\u001b[0;34m\u001b[0m\u001b[0;34m\u001b[0m\u001b[0m\n\u001b[0;32m--> 394\u001b[0;31m                                swmr=swmr)\n\u001b[0m\u001b[1;32m    395\u001b[0m \u001b[0;34m\u001b[0m\u001b[0m\n\u001b[1;32m    396\u001b[0m             \u001b[0;32mif\u001b[0m \u001b[0mswmr_support\u001b[0m\u001b[0;34m:\u001b[0m\u001b[0;34m\u001b[0m\u001b[0;34m\u001b[0m\u001b[0m\n",
      "\u001b[0;32m~/anaconda3/lib/python3.6/site-packages/h5py/_hl/files.py\u001b[0m in \u001b[0;36mmake_fid\u001b[0;34m(name, mode, userblock_size, fapl, fcpl, swmr)\u001b[0m\n\u001b[1;32m    168\u001b[0m         \u001b[0;32mif\u001b[0m \u001b[0mswmr\u001b[0m \u001b[0;32mand\u001b[0m \u001b[0mswmr_support\u001b[0m\u001b[0;34m:\u001b[0m\u001b[0;34m\u001b[0m\u001b[0;34m\u001b[0m\u001b[0m\n\u001b[1;32m    169\u001b[0m             \u001b[0mflags\u001b[0m \u001b[0;34m|=\u001b[0m \u001b[0mh5f\u001b[0m\u001b[0;34m.\u001b[0m\u001b[0mACC_SWMR_READ\u001b[0m\u001b[0;34m\u001b[0m\u001b[0;34m\u001b[0m\u001b[0m\n\u001b[0;32m--> 170\u001b[0;31m         \u001b[0mfid\u001b[0m \u001b[0;34m=\u001b[0m \u001b[0mh5f\u001b[0m\u001b[0;34m.\u001b[0m\u001b[0mopen\u001b[0m\u001b[0;34m(\u001b[0m\u001b[0mname\u001b[0m\u001b[0;34m,\u001b[0m \u001b[0mflags\u001b[0m\u001b[0;34m,\u001b[0m \u001b[0mfapl\u001b[0m\u001b[0;34m=\u001b[0m\u001b[0mfapl\u001b[0m\u001b[0;34m)\u001b[0m\u001b[0;34m\u001b[0m\u001b[0;34m\u001b[0m\u001b[0m\n\u001b[0m\u001b[1;32m    171\u001b[0m     \u001b[0;32melif\u001b[0m \u001b[0mmode\u001b[0m \u001b[0;34m==\u001b[0m \u001b[0;34m'r+'\u001b[0m\u001b[0;34m:\u001b[0m\u001b[0;34m\u001b[0m\u001b[0;34m\u001b[0m\u001b[0m\n\u001b[1;32m    172\u001b[0m         \u001b[0mfid\u001b[0m \u001b[0;34m=\u001b[0m \u001b[0mh5f\u001b[0m\u001b[0;34m.\u001b[0m\u001b[0mopen\u001b[0m\u001b[0;34m(\u001b[0m\u001b[0mname\u001b[0m\u001b[0;34m,\u001b[0m \u001b[0mh5f\u001b[0m\u001b[0;34m.\u001b[0m\u001b[0mACC_RDWR\u001b[0m\u001b[0;34m,\u001b[0m \u001b[0mfapl\u001b[0m\u001b[0;34m=\u001b[0m\u001b[0mfapl\u001b[0m\u001b[0;34m)\u001b[0m\u001b[0;34m\u001b[0m\u001b[0;34m\u001b[0m\u001b[0m\n",
      "\u001b[0;32mh5py/_objects.pyx\u001b[0m in \u001b[0;36mh5py._objects.with_phil.wrapper\u001b[0;34m()\u001b[0m\n",
      "\u001b[0;32mh5py/_objects.pyx\u001b[0m in \u001b[0;36mh5py._objects.with_phil.wrapper\u001b[0;34m()\u001b[0m\n",
      "\u001b[0;32mh5py/h5f.pyx\u001b[0m in \u001b[0;36mh5py.h5f.open\u001b[0;34m()\u001b[0m\n",
      "\u001b[0;31mOSError\u001b[0m: Unable to open file (unable to open file: name = 'sepsis_outcome.model', errno = 2, error message = 'No such file or directory', flags = 0, o_flags = 0)"
     ]
    }
   ],
   "source": [
    "tf.keras.models.load_model(\"sepsis_outcome.model\")"
   ]
  },
  {
   "cell_type": "code",
   "execution_count": null,
   "metadata": {},
   "outputs": [],
   "source": []
  },
  {
   "cell_type": "code",
   "execution_count": null,
   "metadata": {},
   "outputs": [],
   "source": []
  }
 ],
 "metadata": {
  "kernelspec": {
   "display_name": "Python 3",
   "language": "python",
   "name": "python3"
  },
  "language_info": {
   "codemirror_mode": {
    "name": "ipython",
    "version": 3
   },
   "file_extension": ".py",
   "mimetype": "text/x-python",
   "name": "python",
   "nbconvert_exporter": "python",
   "pygments_lexer": "ipython3",
   "version": "3.6.8"
  }
 },
 "nbformat": 4,
 "nbformat_minor": 2
}
